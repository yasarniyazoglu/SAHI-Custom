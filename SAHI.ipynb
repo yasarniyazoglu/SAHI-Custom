{
  "nbformat": 4,
  "nbformat_minor": 0,
  "metadata": {
    "colab": {
      "provenance": []
    },
    "kernelspec": {
      "name": "python3",
      "display_name": "Python 3"
    },
    "language_info": {
      "name": "python"
    },
    "accelerator": "GPU"
  },
  "cells": [
    {
      "cell_type": "markdown",
      "source": [
        "### **Google Drive Bağlantısı**"
      ],
      "metadata": {
        "id": "9M3jtllQfJz9"
      }
    },
    {
      "cell_type": "code",
      "execution_count": null,
      "metadata": {
        "id": "J-6YoGMpTggJ",
        "colab": {
          "base_uri": "https://localhost:8080/"
        },
        "outputId": "fa3b33cc-a3e9-4b71-ccfe-fe0fddd9d179"
      },
      "outputs": [
        {
          "output_type": "stream",
          "name": "stdout",
          "text": [
            "Mounted at /content/drive\n"
          ]
        }
      ],
      "source": [
        "from google.colab import drive\n",
        "drive.mount('/content/drive')"
      ]
    },
    {
      "cell_type": "code",
      "source": [
        "!unzip \"/content/drive/MyDrive/sahi_data.zip\""
      ],
      "metadata": {
        "id": "NCzuA_Oyz_XB"
      },
      "execution_count": null,
      "outputs": []
    },
    {
      "cell_type": "markdown",
      "source": [
        "### **SAHI Kütüphanesi Kurulum**"
      ],
      "metadata": {
        "id": "ddWdFS7lTxWI"
      }
    },
    {
      "cell_type": "code",
      "source": [
        "!pip install sahi\n",
        "!pip install -U torch sahi yolov5 # Yolov5 için Kurulum\n",
        "!pip install pytorch=1.10.2 torchvision=0.11.3 cudatoolkit=11.3 -c pytorch\n",
        "!pip install detectron2 -f https://dl.fbaipublicfiles.com/detectron2/wheels/cu113/torch1.10/index.html # Detectron2 Kurulum\n",
        "#!pip install mmcv-full==1.4.4 -f https://download.openmmlab.com/mmcv/dist/cu113/torch1.10.0/index.html # Mmndet Kurulum\n",
        "#!pip install mmdet==2.21.0\n",
        "import os\n",
        "os.getcwd()"
      ],
      "metadata": {
        "id": "SxkWv9IMTk4W",
        "colab": {
          "base_uri": "https://localhost:8080/",
          "height": 1000
        },
        "outputId": "c6327827-ba49-402d-850a-0efd1d4347ba"
      },
      "execution_count": null,
      "outputs": [
        {
          "output_type": "stream",
          "name": "stdout",
          "text": [
            "Collecting sahi\n",
            "  Downloading sahi-0.9.0-py3-none-any.whl (78 kB)\n",
            "\u001b[K     |████████████████████████████████| 78 kB 5.0 MB/s \n",
            "\u001b[?25hCollecting pillow>=8.2.0\n",
            "  Downloading Pillow-9.0.1-cp37-cp37m-manylinux_2_17_x86_64.manylinux2014_x86_64.whl (4.3 MB)\n",
            "\u001b[K     |████████████████████████████████| 4.3 MB 29.6 MB/s \n",
            "\u001b[?25hRequirement already satisfied: requests in /usr/local/lib/python3.7/dist-packages (from sahi) (2.23.0)\n",
            "Requirement already satisfied: shapely>=1.8.0 in /usr/local/lib/python3.7/dist-packages (from sahi) (1.8.1.post1)\n",
            "Requirement already satisfied: tqdm>=4.48.2 in /usr/local/lib/python3.7/dist-packages (from sahi) (4.62.3)\n",
            "Collecting opencv-python>=4.2.0.32\n",
            "  Downloading opencv_python-4.5.5.62-cp36-abi3-manylinux_2_17_x86_64.manylinux2014_x86_64.whl (60.4 MB)\n",
            "\u001b[K     |████████████████████████████████| 60.4 MB 1.2 MB/s \n",
            "\u001b[?25hRequirement already satisfied: pyyaml in /usr/local/lib/python3.7/dist-packages (from sahi) (3.13)\n",
            "Collecting terminaltables\n",
            "  Downloading terminaltables-3.1.10-py2.py3-none-any.whl (15 kB)\n",
            "Collecting fire\n",
            "  Downloading fire-0.4.0.tar.gz (87 kB)\n",
            "\u001b[K     |████████████████████████████████| 87 kB 6.6 MB/s \n",
            "\u001b[?25hRequirement already satisfied: numpy>=1.14.5 in /usr/local/lib/python3.7/dist-packages (from opencv-python>=4.2.0.32->sahi) (1.21.5)\n",
            "Requirement already satisfied: six in /usr/local/lib/python3.7/dist-packages (from fire->sahi) (1.15.0)\n",
            "Requirement already satisfied: termcolor in /usr/local/lib/python3.7/dist-packages (from fire->sahi) (1.1.0)\n",
            "Requirement already satisfied: certifi>=2017.4.17 in /usr/local/lib/python3.7/dist-packages (from requests->sahi) (2021.10.8)\n",
            "Requirement already satisfied: urllib3!=1.25.0,!=1.25.1,<1.26,>=1.21.1 in /usr/local/lib/python3.7/dist-packages (from requests->sahi) (1.24.3)\n",
            "Requirement already satisfied: idna<3,>=2.5 in /usr/local/lib/python3.7/dist-packages (from requests->sahi) (2.10)\n",
            "Requirement already satisfied: chardet<4,>=3.0.2 in /usr/local/lib/python3.7/dist-packages (from requests->sahi) (3.0.4)\n",
            "Building wheels for collected packages: fire\n",
            "  Building wheel for fire (setup.py) ... \u001b[?25l\u001b[?25hdone\n",
            "  Created wheel for fire: filename=fire-0.4.0-py2.py3-none-any.whl size=115942 sha256=5b94c14a1db8a218fe0c32201a103f97344fd5c9046358fa0da35b66106c6d78\n",
            "  Stored in directory: /root/.cache/pip/wheels/8a/67/fb/2e8a12fa16661b9d5af1f654bd199366799740a85c64981226\n",
            "Successfully built fire\n",
            "Installing collected packages: terminaltables, pillow, opencv-python, fire, sahi\n",
            "  Attempting uninstall: pillow\n",
            "    Found existing installation: Pillow 7.1.2\n",
            "    Uninstalling Pillow-7.1.2:\n",
            "      Successfully uninstalled Pillow-7.1.2\n",
            "  Attempting uninstall: opencv-python\n",
            "    Found existing installation: opencv-python 4.1.2.30\n",
            "    Uninstalling opencv-python-4.1.2.30:\n",
            "      Successfully uninstalled opencv-python-4.1.2.30\n",
            "\u001b[31mERROR: pip's dependency resolver does not currently take into account all the packages that are installed. This behaviour is the source of the following dependency conflicts.\n",
            "albumentations 0.1.12 requires imgaug<0.2.7,>=0.2.5, but you have imgaug 0.2.9 which is incompatible.\u001b[0m\n",
            "Successfully installed fire-0.4.0 opencv-python-4.5.5.62 pillow-9.0.1 sahi-0.9.0 terminaltables-3.1.10\n"
          ]
        },
        {
          "output_type": "display_data",
          "data": {
            "application/vnd.colab-display-data+json": {
              "pip_warning": {
                "packages": [
                  "PIL"
                ]
              }
            }
          },
          "metadata": {}
        },
        {
          "output_type": "stream",
          "name": "stdout",
          "text": [
            "Requirement already satisfied: torch in /usr/local/lib/python3.7/dist-packages (1.10.0+cu111)\n",
            "Collecting torch\n",
            "  Downloading torch-1.10.2-cp37-cp37m-manylinux1_x86_64.whl (881.9 MB)\n",
            "\u001b[K     |██████████████████████████████▎ | 834.1 MB 1.2 MB/s eta 0:00:41tcmalloc: large alloc 1147494400 bytes == 0x558ac51aa000 @  0x7f36fdf28615 0x558a603453bc 0x558a6042618a 0x558a603481cd 0x558a6043ab3d 0x558a603bc458 0x558a603b702f 0x558a60349aba 0x558a603bc2c0 0x558a603b702f 0x558a60349aba 0x558a603b8cd4 0x558a6043b986 0x558a603b8350 0x558a6043b986 0x558a603b8350 0x558a6043b986 0x558a603b8350 0x558a60349f19 0x558a6038da79 0x558a60348b32 0x558a603bc1dd 0x558a603b702f 0x558a60349aba 0x558a603b8cd4 0x558a603b702f 0x558a60349aba 0x558a603b7eae 0x558a603499da 0x558a603b8108 0x558a603b702f\n",
            "\u001b[K     |████████████████████████████████| 881.9 MB 2.0 kB/s \n",
            "\u001b[?25hRequirement already satisfied: sahi in /usr/local/lib/python3.7/dist-packages (0.9.0)\n",
            "Collecting yolov5\n",
            "  Downloading yolov5-6.0.6-py36.py37.py38-none-any.whl (837 kB)\n",
            "\u001b[K     |████████████████████████████████| 837 kB 44.7 MB/s \n",
            "\u001b[?25hRequirement already satisfied: typing-extensions in /usr/local/lib/python3.7/dist-packages (from torch) (3.10.0.2)\n",
            "Requirement already satisfied: shapely>=1.8.0 in /usr/local/lib/python3.7/dist-packages (from sahi) (1.8.1.post1)\n",
            "Requirement already satisfied: opencv-python>=4.2.0.32 in /usr/local/lib/python3.7/dist-packages (from sahi) (4.5.5.62)\n",
            "Requirement already satisfied: pyyaml in /usr/local/lib/python3.7/dist-packages (from sahi) (3.13)\n",
            "Requirement already satisfied: fire in /usr/local/lib/python3.7/dist-packages (from sahi) (0.4.0)\n",
            "Requirement already satisfied: tqdm>=4.48.2 in /usr/local/lib/python3.7/dist-packages (from sahi) (4.62.3)\n",
            "Requirement already satisfied: pillow>=8.2.0 in /usr/local/lib/python3.7/dist-packages (from sahi) (9.0.1)\n",
            "Requirement already satisfied: terminaltables in /usr/local/lib/python3.7/dist-packages (from sahi) (3.1.10)\n",
            "Requirement already satisfied: requests in /usr/local/lib/python3.7/dist-packages (from sahi) (2.23.0)\n",
            "Requirement already satisfied: numpy>=1.14.5 in /usr/local/lib/python3.7/dist-packages (from opencv-python>=4.2.0.32->sahi) (1.21.5)\n",
            "Requirement already satisfied: tensorboard>=2.4.1 in /usr/local/lib/python3.7/dist-packages (from yolov5) (2.8.0)\n",
            "Collecting thop\n",
            "  Downloading thop-0.0.31.post2005241907-py3-none-any.whl (8.7 kB)\n",
            "Collecting pyyaml\n",
            "  Downloading PyYAML-6.0-cp37-cp37m-manylinux_2_5_x86_64.manylinux1_x86_64.manylinux_2_12_x86_64.manylinux2010_x86_64.whl (596 kB)\n",
            "\u001b[K     |████████████████████████████████| 596 kB 39.2 MB/s \n",
            "\u001b[?25hRequirement already satisfied: matplotlib>=3.2.2 in /usr/local/lib/python3.7/dist-packages (from yolov5) (3.2.2)\n",
            "Requirement already satisfied: pandas>=1.1.4 in /usr/local/lib/python3.7/dist-packages (from yolov5) (1.3.5)\n",
            "Requirement already satisfied: torchvision>=0.8.1 in /usr/local/lib/python3.7/dist-packages (from yolov5) (0.11.1+cu111)\n",
            "Requirement already satisfied: seaborn>=0.11.0 in /usr/local/lib/python3.7/dist-packages (from yolov5) (0.11.2)\n",
            "Collecting boto3>=1.19.1\n",
            "  Downloading boto3-1.21.10-py3-none-any.whl (132 kB)\n",
            "\u001b[K     |████████████████████████████████| 132 kB 52.0 MB/s \n",
            "\u001b[?25hRequirement already satisfied: scipy>=1.4.1 in /usr/local/lib/python3.7/dist-packages (from yolov5) (1.4.1)\n",
            "Collecting botocore<1.25.0,>=1.24.10\n",
            "  Downloading botocore-1.24.10-py3-none-any.whl (8.6 MB)\n",
            "\u001b[K     |████████████████████████████████| 8.6 MB 34.3 MB/s \n",
            "\u001b[?25hCollecting s3transfer<0.6.0,>=0.5.0\n",
            "  Downloading s3transfer-0.5.2-py3-none-any.whl (79 kB)\n",
            "\u001b[K     |████████████████████████████████| 79 kB 8.1 MB/s \n",
            "\u001b[?25hCollecting jmespath<1.0.0,>=0.7.1\n",
            "  Downloading jmespath-0.10.0-py2.py3-none-any.whl (24 kB)\n",
            "Requirement already satisfied: python-dateutil<3.0.0,>=2.1 in /usr/local/lib/python3.7/dist-packages (from botocore<1.25.0,>=1.24.10->boto3>=1.19.1->yolov5) (2.8.2)\n",
            "Collecting urllib3<1.27,>=1.25.4\n",
            "  Downloading urllib3-1.26.8-py2.py3-none-any.whl (138 kB)\n",
            "\u001b[K     |████████████████████████████████| 138 kB 55.0 MB/s \n",
            "\u001b[?25hRequirement already satisfied: pyparsing!=2.0.4,!=2.1.2,!=2.1.6,>=2.0.1 in /usr/local/lib/python3.7/dist-packages (from matplotlib>=3.2.2->yolov5) (3.0.7)\n",
            "Requirement already satisfied: kiwisolver>=1.0.1 in /usr/local/lib/python3.7/dist-packages (from matplotlib>=3.2.2->yolov5) (1.3.2)\n",
            "Requirement already satisfied: cycler>=0.10 in /usr/local/lib/python3.7/dist-packages (from matplotlib>=3.2.2->yolov5) (0.11.0)\n",
            "Requirement already satisfied: pytz>=2017.3 in /usr/local/lib/python3.7/dist-packages (from pandas>=1.1.4->yolov5) (2018.9)\n",
            "Requirement already satisfied: six>=1.5 in /usr/local/lib/python3.7/dist-packages (from python-dateutil<3.0.0,>=2.1->botocore<1.25.0,>=1.24.10->boto3>=1.19.1->yolov5) (1.15.0)\n",
            "  Downloading urllib3-1.25.11-py2.py3-none-any.whl (127 kB)\n",
            "\u001b[K     |████████████████████████████████| 127 kB 50.1 MB/s \n",
            "\u001b[?25hRequirement already satisfied: certifi>=2017.4.17 in /usr/local/lib/python3.7/dist-packages (from requests->sahi) (2021.10.8)\n",
            "Requirement already satisfied: chardet<4,>=3.0.2 in /usr/local/lib/python3.7/dist-packages (from requests->sahi) (3.0.4)\n",
            "Requirement already satisfied: idna<3,>=2.5 in /usr/local/lib/python3.7/dist-packages (from requests->sahi) (2.10)\n",
            "Requirement already satisfied: setuptools>=41.0.0 in /usr/local/lib/python3.7/dist-packages (from tensorboard>=2.4.1->yolov5) (57.4.0)\n",
            "Requirement already satisfied: grpcio>=1.24.3 in /usr/local/lib/python3.7/dist-packages (from tensorboard>=2.4.1->yolov5) (1.44.0)\n",
            "Requirement already satisfied: wheel>=0.26 in /usr/local/lib/python3.7/dist-packages (from tensorboard>=2.4.1->yolov5) (0.37.1)\n",
            "Requirement already satisfied: markdown>=2.6.8 in /usr/local/lib/python3.7/dist-packages (from tensorboard>=2.4.1->yolov5) (3.3.6)\n",
            "Requirement already satisfied: protobuf>=3.6.0 in /usr/local/lib/python3.7/dist-packages (from tensorboard>=2.4.1->yolov5) (3.17.3)\n",
            "Requirement already satisfied: google-auth-oauthlib<0.5,>=0.4.1 in /usr/local/lib/python3.7/dist-packages (from tensorboard>=2.4.1->yolov5) (0.4.6)\n",
            "Requirement already satisfied: google-auth<3,>=1.6.3 in /usr/local/lib/python3.7/dist-packages (from tensorboard>=2.4.1->yolov5) (1.35.0)\n",
            "Requirement already satisfied: tensorboard-plugin-wit>=1.6.0 in /usr/local/lib/python3.7/dist-packages (from tensorboard>=2.4.1->yolov5) (1.8.1)\n",
            "Requirement already satisfied: werkzeug>=0.11.15 in /usr/local/lib/python3.7/dist-packages (from tensorboard>=2.4.1->yolov5) (1.0.1)\n",
            "Requirement already satisfied: tensorboard-data-server<0.7.0,>=0.6.0 in /usr/local/lib/python3.7/dist-packages (from tensorboard>=2.4.1->yolov5) (0.6.1)\n",
            "Requirement already satisfied: absl-py>=0.4 in /usr/local/lib/python3.7/dist-packages (from tensorboard>=2.4.1->yolov5) (1.0.0)\n",
            "Requirement already satisfied: pyasn1-modules>=0.2.1 in /usr/local/lib/python3.7/dist-packages (from google-auth<3,>=1.6.3->tensorboard>=2.4.1->yolov5) (0.2.8)\n",
            "Requirement already satisfied: cachetools<5.0,>=2.0.0 in /usr/local/lib/python3.7/dist-packages (from google-auth<3,>=1.6.3->tensorboard>=2.4.1->yolov5) (4.2.4)\n",
            "Requirement already satisfied: rsa<5,>=3.1.4 in /usr/local/lib/python3.7/dist-packages (from google-auth<3,>=1.6.3->tensorboard>=2.4.1->yolov5) (4.8)\n",
            "Requirement already satisfied: requests-oauthlib>=0.7.0 in /usr/local/lib/python3.7/dist-packages (from google-auth-oauthlib<0.5,>=0.4.1->tensorboard>=2.4.1->yolov5) (1.3.1)\n",
            "Requirement already satisfied: importlib-metadata>=4.4 in /usr/local/lib/python3.7/dist-packages (from markdown>=2.6.8->tensorboard>=2.4.1->yolov5) (4.11.1)\n",
            "Requirement already satisfied: zipp>=0.5 in /usr/local/lib/python3.7/dist-packages (from importlib-metadata>=4.4->markdown>=2.6.8->tensorboard>=2.4.1->yolov5) (3.7.0)\n",
            "Requirement already satisfied: pyasn1<0.5.0,>=0.4.6 in /usr/local/lib/python3.7/dist-packages (from pyasn1-modules>=0.2.1->google-auth<3,>=1.6.3->tensorboard>=2.4.1->yolov5) (0.4.8)\n",
            "Requirement already satisfied: oauthlib>=3.0.0 in /usr/local/lib/python3.7/dist-packages (from requests-oauthlib>=0.7.0->google-auth-oauthlib<0.5,>=0.4.1->tensorboard>=2.4.1->yolov5) (3.2.0)\n",
            "Requirement already satisfied: termcolor in /usr/local/lib/python3.7/dist-packages (from fire->sahi) (1.1.0)\n",
            "Installing collected packages: urllib3, jmespath, botocore, s3transfer, pyyaml, thop, boto3, yolov5\n",
            "  Attempting uninstall: urllib3\n",
            "    Found existing installation: urllib3 1.24.3\n",
            "    Uninstalling urllib3-1.24.3:\n",
            "      Successfully uninstalled urllib3-1.24.3\n",
            "  Attempting uninstall: pyyaml\n",
            "    Found existing installation: PyYAML 3.13\n",
            "    Uninstalling PyYAML-3.13:\n",
            "      Successfully uninstalled PyYAML-3.13\n",
            "\u001b[31mERROR: pip's dependency resolver does not currently take into account all the packages that are installed. This behaviour is the source of the following dependency conflicts.\n",
            "datascience 0.10.6 requires folium==0.2.1, but you have folium 0.8.3 which is incompatible.\u001b[0m\n",
            "Successfully installed boto3-1.21.10 botocore-1.24.10 jmespath-0.10.0 pyyaml-6.0 s3transfer-0.5.2 thop-0.0.31.post2005241907 urllib3-1.25.11 yolov5-6.0.6\n",
            "\u001b[31mERROR: Could not open requirements file: [Errno 2] No such file or directory: 'pytorch'\u001b[0m\n",
            "Looking in links: https://dl.fbaipublicfiles.com/detectron2/wheels/cu113/torch1.10/index.html\n",
            "Collecting detectron2\n",
            "  Downloading https://dl.fbaipublicfiles.com/detectron2/wheels/cu113/torch1.10/detectron2-0.6%2Bcu113-cp37-cp37m-linux_x86_64.whl (7.0 MB)\n",
            "\u001b[K     |████████████████████████████████| 7.0 MB 753 kB/s \n",
            "\u001b[?25hRequirement already satisfied: future in /usr/local/lib/python3.7/dist-packages (from detectron2) (0.16.0)\n",
            "Requirement already satisfied: termcolor>=1.1 in /usr/local/lib/python3.7/dist-packages (from detectron2) (1.1.0)\n",
            "Requirement already satisfied: Pillow>=7.1 in /usr/local/lib/python3.7/dist-packages (from detectron2) (9.0.1)\n",
            "Collecting yacs>=0.1.8\n",
            "  Downloading yacs-0.1.8-py3-none-any.whl (14 kB)\n",
            "Collecting black==21.4b2\n",
            "  Downloading black-21.4b2-py3-none-any.whl (130 kB)\n",
            "\u001b[K     |████████████████████████████████| 130 kB 2.2 MB/s \n",
            "\u001b[?25hRequirement already satisfied: tqdm>4.29.0 in /usr/local/lib/python3.7/dist-packages (from detectron2) (4.62.3)\n",
            "Requirement already satisfied: matplotlib in /usr/local/lib/python3.7/dist-packages (from detectron2) (3.2.2)\n",
            "Requirement already satisfied: pydot in /usr/local/lib/python3.7/dist-packages (from detectron2) (1.3.0)\n",
            "Requirement already satisfied: tensorboard in /usr/local/lib/python3.7/dist-packages (from detectron2) (2.8.0)\n",
            "Collecting omegaconf>=2.1\n",
            "  Downloading omegaconf-2.1.1-py3-none-any.whl (74 kB)\n",
            "\u001b[K     |████████████████████████████████| 74 kB 1.8 MB/s \n",
            "\u001b[?25hCollecting hydra-core>=1.1\n",
            "  Downloading hydra_core-1.1.1-py3-none-any.whl (145 kB)\n",
            "\u001b[K     |████████████████████████████████| 145 kB 3.8 MB/s \n",
            "\u001b[?25hCollecting fvcore<0.1.6,>=0.1.5\n",
            "  Downloading fvcore-0.1.5.post20220212.tar.gz (49 kB)\n",
            "\u001b[K     |████████████████████████████████| 49 kB 4.6 MB/s \n",
            "\u001b[?25hCollecting iopath<0.1.10,>=0.1.7\n",
            "  Downloading iopath-0.1.9-py3-none-any.whl (27 kB)\n",
            "Requirement already satisfied: tabulate in /usr/local/lib/python3.7/dist-packages (from detectron2) (0.8.9)\n",
            "Requirement already satisfied: cloudpickle in /usr/local/lib/python3.7/dist-packages (from detectron2) (1.3.0)\n",
            "Requirement already satisfied: pycocotools>=2.0.2 in /usr/local/lib/python3.7/dist-packages (from detectron2) (2.0.4)\n",
            "Requirement already satisfied: click>=7.1.2 in /usr/local/lib/python3.7/dist-packages (from black==21.4b2->detectron2) (7.1.2)\n",
            "Requirement already satisfied: typing-extensions>=3.7.4 in /usr/local/lib/python3.7/dist-packages (from black==21.4b2->detectron2) (3.10.0.2)\n",
            "Collecting toml>=0.10.1\n",
            "  Downloading toml-0.10.2-py2.py3-none-any.whl (16 kB)\n",
            "Collecting regex>=2020.1.8\n",
            "  Downloading regex-2022.1.18-cp37-cp37m-manylinux_2_17_x86_64.manylinux2014_x86_64.whl (748 kB)\n",
            "\u001b[K     |████████████████████████████████| 748 kB 3.1 MB/s \n",
            "\u001b[?25hCollecting mypy-extensions>=0.4.3\n",
            "  Downloading mypy_extensions-0.4.3-py2.py3-none-any.whl (4.5 kB)\n",
            "Collecting pathspec<1,>=0.8.1\n",
            "  Downloading pathspec-0.9.0-py2.py3-none-any.whl (31 kB)\n",
            "Collecting typed-ast>=1.4.2\n",
            "  Downloading typed_ast-1.5.2-cp37-cp37m-manylinux_2_5_x86_64.manylinux1_x86_64.manylinux_2_12_x86_64.manylinux2010_x86_64.whl (843 kB)\n",
            "\u001b[K     |████████████████████████████████| 843 kB 8.1 MB/s \n",
            "\u001b[?25hRequirement already satisfied: appdirs in /usr/local/lib/python3.7/dist-packages (from black==21.4b2->detectron2) (1.4.4)\n",
            "Requirement already satisfied: numpy in /usr/local/lib/python3.7/dist-packages (from fvcore<0.1.6,>=0.1.5->detectron2) (1.21.5)\n",
            "Requirement already satisfied: pyyaml>=5.1 in /usr/local/lib/python3.7/dist-packages (from fvcore<0.1.6,>=0.1.5->detectron2) (6.0)\n",
            "Collecting antlr4-python3-runtime==4.8\n",
            "  Downloading antlr4-python3-runtime-4.8.tar.gz (112 kB)\n",
            "\u001b[K     |████████████████████████████████| 112 kB 15.4 MB/s \n",
            "\u001b[?25hRequirement already satisfied: importlib-resources in /usr/local/lib/python3.7/dist-packages (from hydra-core>=1.1->detectron2) (5.4.0)\n",
            "Collecting portalocker\n",
            "  Downloading portalocker-2.4.0-py2.py3-none-any.whl (16 kB)\n",
            "Requirement already satisfied: python-dateutil>=2.1 in /usr/local/lib/python3.7/dist-packages (from matplotlib->detectron2) (2.8.2)\n",
            "Requirement already satisfied: kiwisolver>=1.0.1 in /usr/local/lib/python3.7/dist-packages (from matplotlib->detectron2) (1.3.2)\n",
            "Requirement already satisfied: cycler>=0.10 in /usr/local/lib/python3.7/dist-packages (from matplotlib->detectron2) (0.11.0)\n",
            "Requirement already satisfied: pyparsing!=2.0.4,!=2.1.2,!=2.1.6,>=2.0.1 in /usr/local/lib/python3.7/dist-packages (from matplotlib->detectron2) (3.0.7)\n",
            "Requirement already satisfied: six>=1.5 in /usr/local/lib/python3.7/dist-packages (from python-dateutil>=2.1->matplotlib->detectron2) (1.15.0)\n",
            "Requirement already satisfied: zipp>=3.1.0 in /usr/local/lib/python3.7/dist-packages (from importlib-resources->hydra-core>=1.1->detectron2) (3.7.0)\n",
            "Requirement already satisfied: tensorboard-plugin-wit>=1.6.0 in /usr/local/lib/python3.7/dist-packages (from tensorboard->detectron2) (1.8.1)\n",
            "Requirement already satisfied: google-auth<3,>=1.6.3 in /usr/local/lib/python3.7/dist-packages (from tensorboard->detectron2) (1.35.0)\n",
            "Requirement already satisfied: protobuf>=3.6.0 in /usr/local/lib/python3.7/dist-packages (from tensorboard->detectron2) (3.17.3)\n",
            "Requirement already satisfied: setuptools>=41.0.0 in /usr/local/lib/python3.7/dist-packages (from tensorboard->detectron2) (57.4.0)\n",
            "Requirement already satisfied: grpcio>=1.24.3 in /usr/local/lib/python3.7/dist-packages (from tensorboard->detectron2) (1.44.0)\n",
            "Requirement already satisfied: google-auth-oauthlib<0.5,>=0.4.1 in /usr/local/lib/python3.7/dist-packages (from tensorboard->detectron2) (0.4.6)\n",
            "Requirement already satisfied: tensorboard-data-server<0.7.0,>=0.6.0 in /usr/local/lib/python3.7/dist-packages (from tensorboard->detectron2) (0.6.1)\n",
            "Requirement already satisfied: markdown>=2.6.8 in /usr/local/lib/python3.7/dist-packages (from tensorboard->detectron2) (3.3.6)\n",
            "Requirement already satisfied: absl-py>=0.4 in /usr/local/lib/python3.7/dist-packages (from tensorboard->detectron2) (1.0.0)\n",
            "Requirement already satisfied: werkzeug>=0.11.15 in /usr/local/lib/python3.7/dist-packages (from tensorboard->detectron2) (1.0.1)\n",
            "Requirement already satisfied: requests<3,>=2.21.0 in /usr/local/lib/python3.7/dist-packages (from tensorboard->detectron2) (2.23.0)\n",
            "Requirement already satisfied: wheel>=0.26 in /usr/local/lib/python3.7/dist-packages (from tensorboard->detectron2) (0.37.1)\n",
            "Requirement already satisfied: pyasn1-modules>=0.2.1 in /usr/local/lib/python3.7/dist-packages (from google-auth<3,>=1.6.3->tensorboard->detectron2) (0.2.8)\n",
            "Requirement already satisfied: cachetools<5.0,>=2.0.0 in /usr/local/lib/python3.7/dist-packages (from google-auth<3,>=1.6.3->tensorboard->detectron2) (4.2.4)\n",
            "Requirement already satisfied: rsa<5,>=3.1.4 in /usr/local/lib/python3.7/dist-packages (from google-auth<3,>=1.6.3->tensorboard->detectron2) (4.8)\n",
            "Requirement already satisfied: requests-oauthlib>=0.7.0 in /usr/local/lib/python3.7/dist-packages (from google-auth-oauthlib<0.5,>=0.4.1->tensorboard->detectron2) (1.3.1)\n",
            "Requirement already satisfied: importlib-metadata>=4.4 in /usr/local/lib/python3.7/dist-packages (from markdown>=2.6.8->tensorboard->detectron2) (4.11.1)\n",
            "Requirement already satisfied: pyasn1<0.5.0,>=0.4.6 in /usr/local/lib/python3.7/dist-packages (from pyasn1-modules>=0.2.1->google-auth<3,>=1.6.3->tensorboard->detectron2) (0.4.8)\n",
            "Requirement already satisfied: urllib3!=1.25.0,!=1.25.1,<1.26,>=1.21.1 in /usr/local/lib/python3.7/dist-packages (from requests<3,>=2.21.0->tensorboard->detectron2) (1.25.11)\n",
            "Requirement already satisfied: certifi>=2017.4.17 in /usr/local/lib/python3.7/dist-packages (from requests<3,>=2.21.0->tensorboard->detectron2) (2021.10.8)\n",
            "Requirement already satisfied: idna<3,>=2.5 in /usr/local/lib/python3.7/dist-packages (from requests<3,>=2.21.0->tensorboard->detectron2) (2.10)\n",
            "Requirement already satisfied: chardet<4,>=3.0.2 in /usr/local/lib/python3.7/dist-packages (from requests<3,>=2.21.0->tensorboard->detectron2) (3.0.4)\n",
            "Requirement already satisfied: oauthlib>=3.0.0 in /usr/local/lib/python3.7/dist-packages (from requests-oauthlib>=0.7.0->google-auth-oauthlib<0.5,>=0.4.1->tensorboard->detectron2) (3.2.0)\n",
            "Building wheels for collected packages: fvcore, antlr4-python3-runtime\n",
            "  Building wheel for fvcore (setup.py) ... \u001b[?25l\u001b[?25hdone\n",
            "  Created wheel for fvcore: filename=fvcore-0.1.5.post20220212-py3-none-any.whl size=61216 sha256=b24ac381901f8478d1596f3ff0a35886f254c882b25a453c324e70f06f167e6b\n",
            "  Stored in directory: /root/.cache/pip/wheels/92/43/75/238d2a5d897274799f92b8938f3cd807a3ccd3c8f37c0a4725\n",
            "  Building wheel for antlr4-python3-runtime (setup.py) ... \u001b[?25l\u001b[?25hdone\n",
            "  Created wheel for antlr4-python3-runtime: filename=antlr4_python3_runtime-4.8-py3-none-any.whl size=141230 sha256=3250f1ecab57491a379f611b59c3f03f8c96f62c692f46364f02f98d24618662\n",
            "  Stored in directory: /root/.cache/pip/wheels/ca/33/b7/336836125fc9bb4ceaa4376d8abca10ca8bc84ddc824baea6c\n",
            "Successfully built fvcore antlr4-python3-runtime\n",
            "Installing collected packages: portalocker, antlr4-python3-runtime, yacs, typed-ast, toml, regex, pathspec, omegaconf, mypy-extensions, iopath, hydra-core, fvcore, black, detectron2\n",
            "  Attempting uninstall: regex\n",
            "    Found existing installation: regex 2019.12.20\n",
            "    Uninstalling regex-2019.12.20:\n",
            "      Successfully uninstalled regex-2019.12.20\n",
            "Successfully installed antlr4-python3-runtime-4.8 black-21.4b2 detectron2-0.6+cu113 fvcore-0.1.5.post20220212 hydra-core-1.1.1 iopath-0.1.9 mypy-extensions-0.4.3 omegaconf-2.1.1 pathspec-0.9.0 portalocker-2.4.0 regex-2022.1.18 toml-0.10.2 typed-ast-1.5.2 yacs-0.1.8\n"
          ]
        },
        {
          "output_type": "display_data",
          "data": {
            "application/vnd.colab-display-data+json": {
              "pip_warning": {
                "packages": [
                  "pydevd_plugins"
                ]
              }
            }
          },
          "metadata": {}
        },
        {
          "output_type": "execute_result",
          "data": {
            "application/vnd.google.colaboratory.intrinsic+json": {
              "type": "string"
            },
            "text/plain": [
              "'/content'"
            ]
          },
          "metadata": {},
          "execution_count": 3
        }
      ]
    },
    {
      "cell_type": "markdown",
      "source": [
        "### **Kütüphaneler**"
      ],
      "metadata": {
        "id": "co3nf-moUt11"
      }
    },
    {
      "cell_type": "code",
      "source": [
        "from sahi.utils.yolov5 import download_yolov5s6_model # Yolov5 Modellerini indirme fonksiyonu\n",
        "\n",
        "from sahi.model import Yolov5DetectionModel # Yolov5 Algılama modeli başlatır\n",
        "from sahi.utils.cv import read_image # Görüntüyü verilen yoldan numpy dizisi olarak yükler\n",
        "from sahi.utils.file import download_from_url # Fotoğraf indirme fonskiyonu\n",
        "from sahi.predict import get_prediction, get_sliced_prediction, predict, predict_fiftyone\n",
        "from IPython.display import Image\n",
        "\n",
        "# get_prediction : Verilen algılama_modelini kullanarak verilen görüntü için tahmin gerçekleştirme işlevi\n",
        "\n",
        "# get_sliced_prediction : Dilim görüntüsü işlevi + her dilim için tahmin alma + tahminleri tam görüntüde birleştirme\n",
        "\n",
        "# predict : Verilen klasördeki tüm mevcut görüntüler için tahmin gerçekleştirir"
      ],
      "metadata": {
        "id": "rGG638XhW9ti"
      },
      "execution_count": null,
      "outputs": []
    },
    {
      "cell_type": "markdown",
      "source": [
        "### **Modeli Yükleme**"
      ],
      "metadata": {
        "id": "loLWyhKXYpL8"
      }
    },
    {
      "cell_type": "code",
      "source": [
        "model_path=\"/content/sahi_data/models/last.pt\"\n",
        "\n",
        "detection_model = Yolov5DetectionModel(\n",
        "    model_path=model_path, # model \n",
        "    confidence_threshold=0.9, # eşik değeri\n",
        "    device=\"cuda\", # or 'cpu'  Hangi donanımda çalışacağını seçiyoruz\n",
        ")"
      ],
      "metadata": {
        "id": "oEp3nxoNTlCg",
        "colab": {
          "base_uri": "https://localhost:8080/"
        },
        "outputId": "03b4b7df-4fa2-46c4-8419-2dc6a54203ad"
      },
      "execution_count": null,
      "outputs": [
        {
          "output_type": "stream",
          "name": "stdout",
          "text": [
            "Downloading https://ultralytics.com/assets/Arial.ttf to /root/.config/Ultralytics/Arial.ttf...\n"
          ]
        },
        {
          "output_type": "stream",
          "name": "stderr",
          "text": [
            "03/01/2022 23:06:41 - INFO - yolov5.models.yolo -   \n",
            "                 from  n    params  module                                  arguments                     \n",
            "03/01/2022 23:06:41 - INFO - yolov5.models.yolo -     0                -1  1      8800  yolov5.models.common.Focus              [3, 80, 3]                    \n",
            "03/01/2022 23:06:41 - INFO - yolov5.models.yolo -     1                -1  1    115520  yolov5.models.common.Conv               [80, 160, 3, 2]               \n",
            "03/01/2022 23:06:42 - INFO - yolov5.models.yolo -     2                -1  4    309120  yolov5.models.common.C3                 [160, 160, 4]                 \n",
            "03/01/2022 23:06:42 - INFO - yolov5.models.yolo -     3                -1  1    461440  yolov5.models.common.Conv               [160, 320, 3, 2]              \n",
            "03/01/2022 23:06:42 - INFO - yolov5.models.yolo -     4                -1 12   3285760  yolov5.models.common.C3                 [320, 320, 12]                \n",
            "03/01/2022 23:06:42 - INFO - yolov5.models.yolo -     5                -1  1   1844480  yolov5.models.common.Conv               [320, 640, 3, 2]              \n",
            "03/01/2022 23:06:42 - INFO - yolov5.models.yolo -     6                -1 12  13125120  yolov5.models.common.C3                 [640, 640, 12]                \n",
            "03/01/2022 23:06:42 - INFO - yolov5.models.yolo -     7                -1  1   7375360  yolov5.models.common.Conv               [640, 1280, 3, 2]             \n",
            "03/01/2022 23:06:42 - INFO - yolov5.models.yolo -     8                -1  1   4099840  yolov5.models.common.SPP                [1280, 1280, [5, 9, 13]]      \n",
            "03/01/2022 23:06:42 - INFO - yolov5.models.yolo -     9                -1  4  19676160  yolov5.models.common.C3                 [1280, 1280, 4, False]        \n",
            "03/01/2022 23:06:42 - INFO - yolov5.models.yolo -    10                -1  1    820480  yolov5.models.common.Conv               [1280, 640, 1, 1]             \n",
            "03/01/2022 23:06:42 - INFO - yolov5.models.yolo -    11                -1  1         0  torch.nn.modules.upsampling.Upsample    [None, 2, 'nearest']          \n",
            "03/01/2022 23:06:42 - INFO - yolov5.models.yolo -    12           [-1, 6]  1         0  yolov5.models.common.Concat             [1]                           \n",
            "03/01/2022 23:06:42 - INFO - yolov5.models.yolo -    13                -1  4   5332480  yolov5.models.common.C3                 [1280, 640, 4, False]         \n",
            "03/01/2022 23:06:42 - INFO - yolov5.models.yolo -    14                -1  1    205440  yolov5.models.common.Conv               [640, 320, 1, 1]              \n",
            "03/01/2022 23:06:42 - INFO - yolov5.models.yolo -    15                -1  1         0  torch.nn.modules.upsampling.Upsample    [None, 2, 'nearest']          \n",
            "03/01/2022 23:06:42 - INFO - yolov5.models.yolo -    16           [-1, 4]  1         0  yolov5.models.common.Concat             [1]                           \n",
            "03/01/2022 23:06:42 - INFO - yolov5.models.yolo -    17                -1  4   1335040  yolov5.models.common.C3                 [640, 320, 4, False]          \n",
            "03/01/2022 23:06:42 - INFO - yolov5.models.yolo -    18                -1  1    922240  yolov5.models.common.Conv               [320, 320, 3, 2]              \n",
            "03/01/2022 23:06:42 - INFO - yolov5.models.yolo -    19          [-1, 14]  1         0  yolov5.models.common.Concat             [1]                           \n",
            "03/01/2022 23:06:42 - INFO - yolov5.models.yolo -    20                -1  4   4922880  yolov5.models.common.C3                 [640, 640, 4, False]          \n",
            "03/01/2022 23:06:42 - INFO - yolov5.models.yolo -    21                -1  1   3687680  yolov5.models.common.Conv               [640, 640, 3, 2]              \n",
            "03/01/2022 23:06:42 - INFO - yolov5.models.yolo -    22          [-1, 10]  1         0  yolov5.models.common.Concat             [1]                           \n",
            "03/01/2022 23:06:42 - INFO - yolov5.models.yolo -    23                -1  4  19676160  yolov5.models.common.C3                 [1280, 1280, 4, False]        \n",
            "03/01/2022 23:06:42 - INFO - yolov5.models.yolo -    24      [17, 20, 23]  1     60561  yolov5.models.yolo.Detect               [4, [[10, 13, 16, 30, 33, 23], [30, 61, 62, 45, 59, 119], [116, 90, 156, 198, 373, 326]], [320, 640, 1280]]\n",
            "/usr/local/lib/python3.7/dist-packages/torch/functional.py:445: UserWarning: torch.meshgrid: in an upcoming release, it will be required to pass the indexing argument. (Triggered internally at  ../aten/src/ATen/native/TensorShape.cpp:2157.)\n",
            "  return _VF.meshgrid(tensors, **kwargs)  # type: ignore[attr-defined]\n",
            "03/01/2022 23:06:44 - INFO - yolov5.utils.torch_utils -   Model Summary: 607 layers, 87264561 parameters, 87264561 gradients, 217.4 GFLOPs\n",
            "03/01/2022 23:06:44 - INFO - yolov5.models.yolo -   \n",
            "03/01/2022 23:06:44 - INFO - yolov5.models.yolo -   Adding AutoShape... \n"
          ]
        }
      ]
    },
    {
      "cell_type": "markdown",
      "source": [
        "### **Standart Tahmin**"
      ],
      "metadata": {
        "id": "_R2SpR0KYiBZ"
      }
    },
    {
      "cell_type": "code",
      "source": [
        "standart_tahmin = get_prediction(\"/content/sahi_data/formula/formula4.jpg\", detection_model)\n",
        "\n",
        "standart_tahmin.export_visuals(export_dir=\"sahi_data_result_standart/\")\n",
        "\n",
        "Image(\"/content/sahi_data_result_standart/prediction_visual.png\")"
      ],
      "metadata": {
        "id": "kvloASXbTlHh",
        "colab": {
          "base_uri": "https://localhost:8080/",
          "height": 699
        },
        "outputId": "5b9f4893-fb33-4e48-acac-f42d009059de"
      },
      "execution_count": null,
      "outputs": []
    },
    {
      "cell_type": "markdown",
      "source": [
        "### **SAHI ile Tahmin**"
      ],
      "metadata": {
        "id": "Vq2JfSb6Y6pr"
      }
    },
    {
      "cell_type": "code",
      "source": [
        "sahi_tahmin = get_sliced_prediction(\n",
        "    \"/content/sahi_data/formula/formula4.jpg\",\n",
        "    detection_model,\n",
        "    slice_height = 512, # SAHI slice (çerçeve) yüksekliği\n",
        "    slice_width = 512, # SAHI slice (çerçeve) genişliği\n",
        "    overlap_height_ratio = 0.5, # örtüşme yükseklik oranı\n",
        "    overlap_width_ratio = 0.5 # örtüşme genişlik oranı\n",
        ")\n",
        "\n",
        "sahi_tahmin.export_visuals(export_dir=\"sahi_data_result_sahi/\") \n",
        "\n",
        "Image(\"/content/sahi_data_result_sahi/prediction_visual.png\")"
      ],
      "metadata": {
        "id": "kwEQnoMkX6sg",
        "colab": {
          "base_uri": "https://localhost:8080/",
          "height": 716
        },
        "outputId": "ed3d28cf-e47a-41e7-e82c-12b45ff152ef"
      },
      "execution_count": null,
      "outputs": []
    },
    {
      "cell_type": "markdown",
      "source": [
        "### **Tahmin Sonuçları**"
      ],
      "metadata": {
        "id": "5Rt3GvmyZRZL"
      }
    },
    {
      "cell_type": "code",
      "source": [
        "object_prediction_list = sahi_tahmin.object_prediction_list\n",
        "object_prediction_list[3]"
      ],
      "metadata": {
        "id": "KECwA1P2Yft3",
        "colab": {
          "base_uri": "https://localhost:8080/"
        },
        "outputId": "19b21b8b-3ca7-45dc-8f7a-92ac5bb41de8"
      },
      "execution_count": null,
      "outputs": [
        {
          "output_type": "execute_result",
          "data": {
            "text/plain": [
              "ObjectPrediction<\n",
              "    bbox: BoundingBox: <(712, 318, 1018, 484), w: 306, h: 166>,\n",
              "    mask: None,\n",
              "    score: PredictionScore: <value: 0.93212890625>,\n",
              "    category: Category: <id: 3, name: Redbull>>"
            ]
          },
          "metadata": {},
          "execution_count": 12
        }
      ]
    },
    {
      "cell_type": "code",
      "source": [
        "object_prediction_list1 = standart_tahmin.object_prediction_list\n",
        "object_prediction_list1[0]"
      ],
      "metadata": {
        "id": "AZliW5m1YfwM",
        "colab": {
          "base_uri": "https://localhost:8080/",
          "height": 182
        },
        "outputId": "43cf8d1b-446c-4aed-a12b-5d144ca00539"
      },
      "execution_count": null,
      "outputs": [
        {
          "output_type": "error",
          "ename": "IndexError",
          "evalue": "ignored",
          "traceback": [
            "\u001b[0;31m---------------------------------------------------------------------------\u001b[0m",
            "\u001b[0;31mIndexError\u001b[0m                                Traceback (most recent call last)",
            "\u001b[0;32m<ipython-input-13-0057485c2784>\u001b[0m in \u001b[0;36m<module>\u001b[0;34m()\u001b[0m\n\u001b[1;32m      1\u001b[0m \u001b[0mobject_prediction_list1\u001b[0m \u001b[0;34m=\u001b[0m \u001b[0mstandart_tahmin\u001b[0m\u001b[0;34m.\u001b[0m\u001b[0mobject_prediction_list\u001b[0m\u001b[0;34m\u001b[0m\u001b[0;34m\u001b[0m\u001b[0m\n\u001b[0;32m----> 2\u001b[0;31m \u001b[0mobject_prediction_list1\u001b[0m\u001b[0;34m[\u001b[0m\u001b[0;36m0\u001b[0m\u001b[0;34m]\u001b[0m\u001b[0;34m\u001b[0m\u001b[0;34m\u001b[0m\u001b[0m\n\u001b[0m",
            "\u001b[0;31mIndexError\u001b[0m: list index out of range"
          ]
        }
      ]
    },
    {
      "cell_type": "markdown",
      "source": [
        "# **Çoklu Tahmin Etme**"
      ],
      "metadata": {
        "id": "waMZkI9HZhV0"
      }
    },
    {
      "cell_type": "code",
      "source": [
        "model_type = \"yolov5\"\n",
        "model_path = \"/content/sahi_data/models/last.pt\"\n",
        "model_device = \"cuda:0\" # or 'cpu'\n",
        "model_confidence_threshold = 0.8\n",
        "\n",
        "slice_height = 512\n",
        "slice_width = 512\n",
        "overlap_height_ratio = 0.5\n",
        "overlap_width_ratio = 0.5\n",
        "\n",
        "source_image_dir = \"sahi_data/formula/\""
      ],
      "metadata": {
        "id": "ZC75tn_FYf1K"
      },
      "execution_count": null,
      "outputs": []
    },
    {
      "cell_type": "markdown",
      "source": [
        "#### **Çoklu - SAHI ile Tahmin**"
      ],
      "metadata": {
        "id": "RQO-nv4qeD1E"
      }
    },
    {
      "cell_type": "code",
      "source": [
        "predict(\n",
        "    model_type=model_type,\n",
        "    model_path=model_path,\n",
        "    model_device=model_device,\n",
        "    model_confidence_threshold=model_confidence_threshold,\n",
        "    source=source_image_dir,\n",
        "    slice_height=slice_height,\n",
        "    slice_width=slice_width,\n",
        "    overlap_height_ratio=overlap_height_ratio,\n",
        "    overlap_width_ratio=overlap_width_ratio,\n",
        "    export_visual=True\n",
        ")"
      ],
      "metadata": {
        "id": "4kfxSxDYav5T",
        "colab": {
          "base_uri": "https://localhost:8080/"
        },
        "outputId": "2cf42343-d54b-40d2-d48e-b86f866d15ac"
      },
      "execution_count": null,
      "outputs": [
        {
          "output_type": "stream",
          "name": "stdout",
          "text": [
            "There are 8 listed files in folder: formula/\n"
          ]
        },
        {
          "output_type": "stream",
          "name": "stderr",
          "text": [
            "03/01/2022 23:13:45 - INFO - yolov5.models.yolo -   \n",
            "                 from  n    params  module                                  arguments                     \n",
            "03/01/2022 23:13:45 - INFO - yolov5.models.yolo -     0                -1  1      8800  yolov5.models.common.Focus              [3, 80, 3]                    \n",
            "03/01/2022 23:13:45 - INFO - yolov5.models.yolo -     1                -1  1    115520  yolov5.models.common.Conv               [80, 160, 3, 2]               \n",
            "03/01/2022 23:13:45 - INFO - yolov5.models.yolo -     2                -1  4    309120  yolov5.models.common.C3                 [160, 160, 4]                 \n",
            "03/01/2022 23:13:45 - INFO - yolov5.models.yolo -     3                -1  1    461440  yolov5.models.common.Conv               [160, 320, 3, 2]              \n",
            "03/01/2022 23:13:45 - INFO - yolov5.models.yolo -     4                -1 12   3285760  yolov5.models.common.C3                 [320, 320, 12]                \n",
            "03/01/2022 23:13:45 - INFO - yolov5.models.yolo -     5                -1  1   1844480  yolov5.models.common.Conv               [320, 640, 3, 2]              \n",
            "03/01/2022 23:13:45 - INFO - yolov5.models.yolo -     6                -1 12  13125120  yolov5.models.common.C3                 [640, 640, 12]                \n",
            "03/01/2022 23:13:45 - INFO - yolov5.models.yolo -     7                -1  1   7375360  yolov5.models.common.Conv               [640, 1280, 3, 2]             \n",
            "03/01/2022 23:13:45 - INFO - yolov5.models.yolo -     8                -1  1   4099840  yolov5.models.common.SPP                [1280, 1280, [5, 9, 13]]      \n",
            "03/01/2022 23:13:45 - INFO - yolov5.models.yolo -     9                -1  4  19676160  yolov5.models.common.C3                 [1280, 1280, 4, False]        \n",
            "03/01/2022 23:13:45 - INFO - yolov5.models.yolo -    10                -1  1    820480  yolov5.models.common.Conv               [1280, 640, 1, 1]             \n",
            "03/01/2022 23:13:45 - INFO - yolov5.models.yolo -    11                -1  1         0  torch.nn.modules.upsampling.Upsample    [None, 2, 'nearest']          \n",
            "03/01/2022 23:13:45 - INFO - yolov5.models.yolo -    12           [-1, 6]  1         0  yolov5.models.common.Concat             [1]                           \n",
            "03/01/2022 23:13:45 - INFO - yolov5.models.yolo -    13                -1  4   5332480  yolov5.models.common.C3                 [1280, 640, 4, False]         \n",
            "03/01/2022 23:13:45 - INFO - yolov5.models.yolo -    14                -1  1    205440  yolov5.models.common.Conv               [640, 320, 1, 1]              \n",
            "03/01/2022 23:13:45 - INFO - yolov5.models.yolo -    15                -1  1         0  torch.nn.modules.upsampling.Upsample    [None, 2, 'nearest']          \n",
            "03/01/2022 23:13:45 - INFO - yolov5.models.yolo -    16           [-1, 4]  1         0  yolov5.models.common.Concat             [1]                           \n",
            "03/01/2022 23:13:45 - INFO - yolov5.models.yolo -    17                -1  4   1335040  yolov5.models.common.C3                 [640, 320, 4, False]          \n",
            "03/01/2022 23:13:45 - INFO - yolov5.models.yolo -    18                -1  1    922240  yolov5.models.common.Conv               [320, 320, 3, 2]              \n",
            "03/01/2022 23:13:45 - INFO - yolov5.models.yolo -    19          [-1, 14]  1         0  yolov5.models.common.Concat             [1]                           \n",
            "03/01/2022 23:13:46 - INFO - yolov5.models.yolo -    20                -1  4   4922880  yolov5.models.common.C3                 [640, 640, 4, False]          \n",
            "03/01/2022 23:13:46 - INFO - yolov5.models.yolo -    21                -1  1   3687680  yolov5.models.common.Conv               [640, 640, 3, 2]              \n",
            "03/01/2022 23:13:46 - INFO - yolov5.models.yolo -    22          [-1, 10]  1         0  yolov5.models.common.Concat             [1]                           \n",
            "03/01/2022 23:13:46 - INFO - yolov5.models.yolo -    23                -1  4  19676160  yolov5.models.common.C3                 [1280, 1280, 4, False]        \n",
            "03/01/2022 23:13:46 - INFO - yolov5.models.yolo -    24      [17, 20, 23]  1     60561  yolov5.models.yolo.Detect               [4, [[10, 13, 16, 30, 33, 23], [30, 61, 62, 45, 59, 119], [116, 90, 156, 198, 373, 326]], [320, 640, 1280]]\n",
            "03/01/2022 23:13:47 - INFO - yolov5.utils.torch_utils -   Model Summary: 607 layers, 87264561 parameters, 87264561 gradients, 217.4 GFLOPs\n",
            "03/01/2022 23:13:47 - INFO - yolov5.models.yolo -   \n",
            "03/01/2022 23:13:47 - INFO - yolov5.models.yolo -   Adding AutoShape... \n",
            "Performing inference on images:   0%|          | 0/8 [00:00<?, ?it/s]"
          ]
        },
        {
          "output_type": "stream",
          "name": "stdout",
          "text": [
            "Performing prediction on 28 number of slices.\n"
          ]
        },
        {
          "output_type": "stream",
          "name": "stderr",
          "text": [
            "Performing inference on images:  12%|█▎        | 1/8 [00:07<00:49,  7.03s/it]"
          ]
        },
        {
          "output_type": "stream",
          "name": "stdout",
          "text": [
            "Performing prediction on 12 number of slices.\n"
          ]
        },
        {
          "output_type": "stream",
          "name": "stderr",
          "text": [
            "Performing inference on images:  25%|██▌       | 2/8 [00:10<00:27,  4.66s/it]"
          ]
        },
        {
          "output_type": "stream",
          "name": "stdout",
          "text": [
            "Performing prediction on 28 number of slices.\n"
          ]
        },
        {
          "output_type": "stream",
          "name": "stderr",
          "text": [
            "Performing inference on images:  38%|███▊      | 3/8 [00:17<00:28,  5.67s/it]"
          ]
        },
        {
          "output_type": "stream",
          "name": "stdout",
          "text": [
            "Performing prediction on 77 number of slices.\n"
          ]
        },
        {
          "output_type": "stream",
          "name": "stderr",
          "text": [
            "Performing inference on images:  50%|█████     | 4/8 [00:35<00:42, 10.62s/it]"
          ]
        },
        {
          "output_type": "stream",
          "name": "stdout",
          "text": [
            "Performing prediction on 6 number of slices.\n"
          ]
        },
        {
          "output_type": "stream",
          "name": "stderr",
          "text": [
            "Performing inference on images:  62%|██████▎   | 5/8 [00:36<00:22,  7.38s/it]"
          ]
        },
        {
          "output_type": "stream",
          "name": "stdout",
          "text": [
            "Performing prediction on 28 number of slices.\n"
          ]
        },
        {
          "output_type": "stream",
          "name": "stderr",
          "text": [
            "Performing inference on images:  75%|███████▌  | 6/8 [00:43<00:14,  7.18s/it]"
          ]
        },
        {
          "output_type": "stream",
          "name": "stdout",
          "text": [
            "Performing prediction on 28 number of slices.\n"
          ]
        },
        {
          "output_type": "stream",
          "name": "stderr",
          "text": [
            "Performing inference on images:  88%|████████▊ | 7/8 [00:50<00:07,  7.05s/it]"
          ]
        },
        {
          "output_type": "stream",
          "name": "stdout",
          "text": [
            "Performing prediction on 28 number of slices.\n"
          ]
        },
        {
          "output_type": "stream",
          "name": "stderr",
          "text": [
            "Performing inference on images: 100%|██████████| 8/8 [00:57<00:00,  7.14s/it]"
          ]
        },
        {
          "output_type": "stream",
          "name": "stdout",
          "text": [
            "Prediction results are successfully exported to runs/predict/exp\n"
          ]
        },
        {
          "output_type": "stream",
          "name": "stderr",
          "text": [
            "\n"
          ]
        }
      ]
    },
    {
      "cell_type": "markdown",
      "source": [
        "#### **Çoklu - Standart Tahmin**"
      ],
      "metadata": {
        "id": "KdQqgRXaeIzJ"
      }
    },
    {
      "cell_type": "code",
      "source": [
        "predict(\n",
        "    model_type=model_type,\n",
        "    model_path=model_path,\n",
        "    model_device=model_device,\n",
        "    model_confidence_threshold=model_confidence_threshold,\n",
        "    source=source_image_dir,\n",
        "    slice_height=slice_height,\n",
        "    slice_width=slice_width,\n",
        "    overlap_height_ratio=overlap_height_ratio,\n",
        "    overlap_width_ratio=overlap_width_ratio,\n",
        "    no_standard_prediction=False,\n",
        "    no_sliced_prediction=True,\n",
        "    export_visual=True,\n",
        ")"
      ],
      "metadata": {
        "id": "Yr-U9p9AYf4A",
        "colab": {
          "base_uri": "https://localhost:8080/"
        },
        "outputId": "da052207-f83e-48ba-ad46-b6fcf19ca203"
      },
      "execution_count": null,
      "outputs": [
        {
          "output_type": "stream",
          "name": "stdout",
          "text": [
            "There are 8 listed files in folder: formula/\n"
          ]
        },
        {
          "output_type": "stream",
          "name": "stderr",
          "text": [
            "03/01/2022 23:15:37 - INFO - yolov5.models.yolo -   \n",
            "                 from  n    params  module                                  arguments                     \n",
            "03/01/2022 23:15:37 - INFO - yolov5.models.yolo -     0                -1  1      8800  yolov5.models.common.Focus              [3, 80, 3]                    \n",
            "03/01/2022 23:15:37 - INFO - yolov5.models.yolo -     1                -1  1    115520  yolov5.models.common.Conv               [80, 160, 3, 2]               \n",
            "03/01/2022 23:15:37 - INFO - yolov5.models.yolo -     2                -1  4    309120  yolov5.models.common.C3                 [160, 160, 4]                 \n",
            "03/01/2022 23:15:37 - INFO - yolov5.models.yolo -     3                -1  1    461440  yolov5.models.common.Conv               [160, 320, 3, 2]              \n",
            "03/01/2022 23:15:37 - INFO - yolov5.models.yolo -     4                -1 12   3285760  yolov5.models.common.C3                 [320, 320, 12]                \n",
            "03/01/2022 23:15:37 - INFO - yolov5.models.yolo -     5                -1  1   1844480  yolov5.models.common.Conv               [320, 640, 3, 2]              \n",
            "03/01/2022 23:15:37 - INFO - yolov5.models.yolo -     6                -1 12  13125120  yolov5.models.common.C3                 [640, 640, 12]                \n",
            "03/01/2022 23:15:38 - INFO - yolov5.models.yolo -     7                -1  1   7375360  yolov5.models.common.Conv               [640, 1280, 3, 2]             \n",
            "03/01/2022 23:15:38 - INFO - yolov5.models.yolo -     8                -1  1   4099840  yolov5.models.common.SPP                [1280, 1280, [5, 9, 13]]      \n",
            "03/01/2022 23:15:38 - INFO - yolov5.models.yolo -     9                -1  4  19676160  yolov5.models.common.C3                 [1280, 1280, 4, False]        \n",
            "03/01/2022 23:15:38 - INFO - yolov5.models.yolo -    10                -1  1    820480  yolov5.models.common.Conv               [1280, 640, 1, 1]             \n",
            "03/01/2022 23:15:38 - INFO - yolov5.models.yolo -    11                -1  1         0  torch.nn.modules.upsampling.Upsample    [None, 2, 'nearest']          \n",
            "03/01/2022 23:15:38 - INFO - yolov5.models.yolo -    12           [-1, 6]  1         0  yolov5.models.common.Concat             [1]                           \n",
            "03/01/2022 23:15:38 - INFO - yolov5.models.yolo -    13                -1  4   5332480  yolov5.models.common.C3                 [1280, 640, 4, False]         \n",
            "03/01/2022 23:15:38 - INFO - yolov5.models.yolo -    14                -1  1    205440  yolov5.models.common.Conv               [640, 320, 1, 1]              \n",
            "03/01/2022 23:15:38 - INFO - yolov5.models.yolo -    15                -1  1         0  torch.nn.modules.upsampling.Upsample    [None, 2, 'nearest']          \n",
            "03/01/2022 23:15:38 - INFO - yolov5.models.yolo -    16           [-1, 4]  1         0  yolov5.models.common.Concat             [1]                           \n",
            "03/01/2022 23:15:38 - INFO - yolov5.models.yolo -    17                -1  4   1335040  yolov5.models.common.C3                 [640, 320, 4, False]          \n",
            "03/01/2022 23:15:38 - INFO - yolov5.models.yolo -    18                -1  1    922240  yolov5.models.common.Conv               [320, 320, 3, 2]              \n",
            "03/01/2022 23:15:38 - INFO - yolov5.models.yolo -    19          [-1, 14]  1         0  yolov5.models.common.Concat             [1]                           \n",
            "03/01/2022 23:15:38 - INFO - yolov5.models.yolo -    20                -1  4   4922880  yolov5.models.common.C3                 [640, 640, 4, False]          \n",
            "03/01/2022 23:15:38 - INFO - yolov5.models.yolo -    21                -1  1   3687680  yolov5.models.common.Conv               [640, 640, 3, 2]              \n",
            "03/01/2022 23:15:38 - INFO - yolov5.models.yolo -    22          [-1, 10]  1         0  yolov5.models.common.Concat             [1]                           \n",
            "03/01/2022 23:15:38 - INFO - yolov5.models.yolo -    23                -1  4  19676160  yolov5.models.common.C3                 [1280, 1280, 4, False]        \n",
            "03/01/2022 23:15:38 - INFO - yolov5.models.yolo -    24      [17, 20, 23]  1     60561  yolov5.models.yolo.Detect               [4, [[10, 13, 16, 30, 33, 23], [30, 61, 62, 45, 59, 119], [116, 90, 156, 198, 373, 326]], [320, 640, 1280]]\n",
            "03/01/2022 23:15:39 - INFO - yolov5.utils.torch_utils -   Model Summary: 607 layers, 87264561 parameters, 87264561 gradients, 217.4 GFLOPs\n",
            "03/01/2022 23:15:39 - INFO - yolov5.models.yolo -   \n",
            "03/01/2022 23:15:40 - INFO - yolov5.models.yolo -   Adding AutoShape... \n",
            "Performing inference on images: 100%|██████████| 8/8 [00:03<00:00,  2.26it/s]"
          ]
        },
        {
          "output_type": "stream",
          "name": "stdout",
          "text": [
            "Prediction results are successfully exported to runs/predict/exp2\n"
          ]
        },
        {
          "output_type": "stream",
          "name": "stderr",
          "text": [
            "\n"
          ]
        }
      ]
    },
    {
      "cell_type": "markdown",
      "source": [
        "# **Detectron2 - Object Detection** "
      ],
      "metadata": {
        "id": "Qkhcp9fSfvWE"
      }
    },
    {
      "cell_type": "code",
      "source": [
        "from sahi.model import Detectron2DetectionModel\n",
        "from sahi.utils.detectron2 import Detectron2TestConstants"
      ],
      "metadata": {
        "id": "maSnIP4gfy_r"
      },
      "execution_count": null,
      "outputs": []
    },
    {
      "cell_type": "code",
      "source": [
        "model_path = Detectron2TestConstants.FASTERCNN_MODEL_ZOO_NAME\n",
        "\n",
        "detection_model = Detectron2DetectionModel(\n",
        "    model_path=model_path,\n",
        "    config_path=model_path,\n",
        "    confidence_threshold=0.8,\n",
        "    image_size=640,\n",
        "    device=\"cuda:0\", # or 'cpu'\n",
        ")"
      ],
      "metadata": {
        "id": "nkrf7Yimf5KR",
        "colab": {
          "base_uri": "https://localhost:8080/"
        },
        "outputId": "f65814e1-169d-43cc-c082-6c3376963a69"
      },
      "execution_count": null,
      "outputs": [
        {
          "output_type": "stream",
          "name": "stderr",
          "text": [
            "03/01/2022 23:25:16 - INFO - fvcore.common.checkpoint -   [Checkpointer] Loading from https://dl.fbaipublicfiles.com/detectron2/COCO-Detection/faster_rcnn_R_50_FPN_3x/137849458/model_final_280758.pkl ...\n",
            "03/01/2022 23:25:16 - INFO - iopath.common.file_io -   Downloading https://dl.fbaipublicfiles.com/detectron2/COCO-Detection/faster_rcnn_R_50_FPN_3x/137849458/model_final_280758.pkl ...\n",
            "03/01/2022 23:25:16 - INFO - iopath.common.download -   Downloading from https://dl.fbaipublicfiles.com/detectron2/COCO-Detection/faster_rcnn_R_50_FPN_3x/137849458/model_final_280758.pkl ...\n",
            "model_final_280758.pkl: 167MB [00:08, 18.9MB/s]                           \n",
            "03/01/2022 23:25:25 - INFO - iopath.common.download -   Successfully downloaded /root/.torch/iopath_cache/detectron2/COCO-Detection/faster_rcnn_R_50_FPN_3x/137849458/model_final_280758.pkl. 167266879 bytes.\n",
            "03/01/2022 23:25:25 - INFO - iopath.common.file_io -   URL https://dl.fbaipublicfiles.com/detectron2/COCO-Detection/faster_rcnn_R_50_FPN_3x/137849458/model_final_280758.pkl cached in /root/.torch/iopath_cache/detectron2/COCO-Detection/faster_rcnn_R_50_FPN_3x/137849458/model_final_280758.pkl\n",
            "03/01/2022 23:25:25 - INFO - fvcore.common.checkpoint -   Reading a file from 'Detectron2 Model Zoo'\n"
          ]
        }
      ]
    },
    {
      "cell_type": "markdown",
      "source": [
        "### **Standart Tahmin**"
      ],
      "metadata": {
        "id": "XGgOF5rIgMOo"
      }
    },
    {
      "cell_type": "code",
      "source": [
        "d2_standart_tahmin = get_prediction(\"/content/sahi_data/formula/araba.jpg\", detection_model)"
      ],
      "metadata": {
        "id": "pri-Zya5f5MT",
        "colab": {
          "base_uri": "https://localhost:8080/"
        },
        "outputId": "12481cb3-3cf7-4a14-ac9c-235525628c8d"
      },
      "execution_count": null,
      "outputs": [
        {
          "output_type": "stream",
          "name": "stderr",
          "text": [
            "/usr/local/lib/python3.7/dist-packages/detectron2/structures/image_list.py:88: UserWarning: __floordiv__ is deprecated, and its behavior will change in a future version of pytorch. It currently rounds toward 0 (like the 'trunc' function NOT 'floor'). This results in incorrect rounding for negative values. To keep the current behavior, use torch.div(a, b, rounding_mode='trunc'), or for actual floor division, use torch.div(a, b, rounding_mode='floor').\n",
            "  max_size = (max_size + (stride - 1)) // stride * stride\n"
          ]
        }
      ]
    },
    {
      "cell_type": "code",
      "source": [
        "d2_standart_tahmin.export_visuals(export_dir=\"sahi_salca_standart/\")\n",
        "\n",
        "Image(\"/content/sahi_salca_standart/prediction_visual.png\")"
      ],
      "metadata": {
        "id": "mvYYlksWf5Ok",
        "colab": {
          "base_uri": "https://localhost:8080/",
          "height": 699
        },
        "outputId": "173e68da-df2f-4055-eafe-67291c9b159c"
      },
      "execution_count": null,
      "outputs": []
    },
    {
      "cell_type": "markdown",
      "source": [
        "### **SAHİ ile Tahmin**"
      ],
      "metadata": {
        "id": "6EFLCOVggNYI"
      }
    },
    {
      "cell_type": "code",
      "source": [
        "d2_sahi_tahmin = get_sliced_prediction(\n",
        "    \"/content/sahi_data/formula/araba.jpg\",\n",
        "    detection_model,\n",
        "    slice_height = 256,\n",
        "    slice_width = 256,\n",
        "    overlap_height_ratio = 0.2,\n",
        "    overlap_width_ratio = 0.2,\n",
        ")"
      ],
      "metadata": {
        "id": "bSc5NezEgOnB",
        "colab": {
          "base_uri": "https://localhost:8080/"
        },
        "outputId": "84743fd3-d6a1-43b3-8693-1cf9bd5391cd"
      },
      "execution_count": null,
      "outputs": [
        {
          "output_type": "stream",
          "name": "stdout",
          "text": [
            "Performing prediction on 150 number of slices.\n"
          ]
        },
        {
          "output_type": "stream",
          "name": "stderr",
          "text": [
            "/usr/local/lib/python3.7/dist-packages/detectron2/structures/image_list.py:88: UserWarning: __floordiv__ is deprecated, and its behavior will change in a future version of pytorch. It currently rounds toward 0 (like the 'trunc' function NOT 'floor'). This results in incorrect rounding for negative values. To keep the current behavior, use torch.div(a, b, rounding_mode='trunc'), or for actual floor division, use torch.div(a, b, rounding_mode='floor').\n",
            "  max_size = (max_size + (stride - 1)) // stride * stride\n"
          ]
        }
      ]
    },
    {
      "cell_type": "code",
      "source": [
        "d2_sahi_tahmin.export_visuals(export_dir=\"sahi_salca_sahi/\")\n",
        "\n",
        "Image(\"/content/sahi_salca_sahi/prediction_visual.png\")"
      ],
      "metadata": {
        "id": "hqwUV0yWgR8L",
        "colab": {
          "base_uri": "https://localhost:8080/",
          "height": 699
        },
        "outputId": "59cb1128-e4cc-45e3-e713-1ab9a9287768"
      },
      "execution_count": null,
      "outputs": []
    },
    {
      "cell_type": "markdown",
      "source": [
        "# **Çoklu Tahmin Etme**"
      ],
      "metadata": {
        "id": "BQHw1DRdguAA"
      }
    },
    {
      "cell_type": "code",
      "source": [
        "model_type = \"detectron2\"\n",
        "model_path = \"/content/sahi_data/models/model_final.pth\"\n",
        "model_device = \"cuda:0\" # or 'cpu'\n",
        "model_confidence_threshold = 0.5\n",
        "\n",
        "slice_height = 1024\n",
        "slice_width = 1024\n",
        "overlap_height_ratio = 0.5\n",
        "overlap_width_ratio = 0.5\n",
        "\n",
        "source_image_dir = \"sahi_data/salca/\""
      ],
      "metadata": {
        "id": "8E6NMUnZglE8"
      },
      "execution_count": null,
      "outputs": []
    },
    {
      "cell_type": "markdown",
      "source": [
        "#### **Çoklu - Standart Tahmin**"
      ],
      "metadata": {
        "id": "0Bhx1_C5gz2P"
      }
    },
    {
      "cell_type": "code",
      "source": [
        "predict(\n",
        "    model_type=model_type,\n",
        "    model_path=model_path,\n",
        "    model_device=model_device,\n",
        "    model_confidence_threshold=model_confidence_threshold,\n",
        "    source=source_image_dir,\n",
        "    slice_height=slice_height,\n",
        "    slice_width=slice_width,\n",
        "    overlap_height_ratio=overlap_height_ratio,\n",
        "    overlap_width_ratio=overlap_width_ratio,\n",
        "    no_sliced_prediction=False,\n",
        "    no_standard_prediction=True,\n",
        "    export_visual=True\n",
        ")"
      ],
      "metadata": {
        "id": "nb7czi9MglHJ"
      },
      "execution_count": null,
      "outputs": []
    },
    {
      "cell_type": "markdown",
      "source": [
        "#### **Çoklu - SAHI ile Tahmin**"
      ],
      "metadata": {
        "id": "QRdfvLKSg3mi"
      }
    },
    {
      "cell_type": "code",
      "source": [
        "predict(\n",
        "    model_type=model_type,\n",
        "    model_path=model_path,\n",
        "    model_device=model_device,\n",
        "    model_confidence_threshold=model_confidence_threshold,\n",
        "    source=source_image_dir,\n",
        "    slice_height=slice_height,\n",
        "    slice_width=slice_width,\n",
        "    overlap_height_ratio=overlap_height_ratio,\n",
        "    overlap_width_ratio=overlap_width_ratio,\n",
        "    no_standard_prediction=False,\n",
        "    no_sliced_prediction=True,\n",
        "    export_visual=True\n",
        ")"
      ],
      "metadata": {
        "id": "VHqmyiu9glJ4"
      },
      "execution_count": null,
      "outputs": []
    },
    {
      "cell_type": "markdown",
      "source": [
        "# **Detectron2 - Segmentasyon** "
      ],
      "metadata": {
        "id": "-B7s-nJhiDCH"
      }
    },
    {
      "cell_type": "code",
      "source": [
        "from detectron2.config import get_cfg \n",
        "cfg=get_cfg() \n",
        "cfg.MODEL.ROI_HEADS.NUM_CLASSES = 3 \n",
        "cfg.MODEL.ROI_HEADS.SCORE_THRESH_TEST = 0.8\n",
        "cfg.MODEL.MASK_ON = True\n",
        "# export config as yaml\n",
        "from sahi.utils.detectron2 import export_cfg_as_yaml \n",
        "export_cfg_as_yaml(cfg, export_path='config.yaml')"
      ],
      "metadata": {
        "id": "R0a89El-2snm"
      },
      "execution_count": null,
      "outputs": []
    },
    {
      "cell_type": "code",
      "source": [
        "model_type = \"detectron2\"\n",
        "model_path = \"/content/drive/MyDrive/mask_best.pth\"\n",
        "model_config_path = \"/content/config.yaml\"\n",
        "model_device = \"cuda:0\" # or 'cpu'\n",
        "model_confidence_threshold = 0.8\n",
        "\n",
        "slice_height = 256\n",
        "slice_width = 256\n",
        "overlap_height_ratio = 0.2\n",
        "overlap_width_ratio = 0.2\n",
        "\n",
        "source_image_dir = \"/content/sahi_data/salca/\""
      ],
      "metadata": {
        "id": "oLZkPCf_ZDQW"
      },
      "execution_count": null,
      "outputs": []
    },
    {
      "cell_type": "code",
      "source": [
        "predict(\n",
        "    model_type=model_type,\n",
        "    model_path=model_path,\n",
        "    model_config_path=model_config_path,\n",
        "    model_device=model_device,\n",
        "    model_confidence_threshold=model_confidence_threshold,\n",
        "    source=source_image_dir,\n",
        "    slice_height=slice_height,\n",
        "    slice_width=slice_width,\n",
        "    overlap_height_ratio=overlap_height_ratio,\n",
        "    overlap_width_ratio=overlap_width_ratio,\n",
        "    export_visual=True\n",
        ")"
      ],
      "metadata": {
        "colab": {
          "base_uri": "https://localhost:8080/"
        },
        "id": "Z5znFYUS2wIH",
        "outputId": "48ec11f0-716c-49a8-ea61-02efd179e52c"
      },
      "execution_count": null,
      "outputs": [
        {
          "output_type": "stream",
          "name": "stdout",
          "text": [
            "There are 6 listed files in folder: salca/\n",
            "/content/config.yaml not available in Model Zoo!\n"
          ]
        },
        {
          "output_type": "stream",
          "name": "stderr",
          "text": [
            "03/01/2022 23:43:10 - INFO - fvcore.common.checkpoint -   [Checkpointer] Loading from /content/drive/MyDrive/mask_best.pth ...\n",
            "03/01/2022 23:43:11 - WARNING - sahi.model -   tuple index out of range\n",
            "Performing inference on images:   0%|          | 0/6 [00:00<?, ?it/s]"
          ]
        },
        {
          "output_type": "stream",
          "name": "stdout",
          "text": [
            "Performing prediction on 80 number of slices.\n"
          ]
        },
        {
          "output_type": "stream",
          "name": "stderr",
          "text": [
            "Performing inference on images:  17%|█▋        | 1/6 [00:51<04:15, 51.02s/it]"
          ]
        },
        {
          "output_type": "stream",
          "name": "stdout",
          "text": [
            "Performing prediction on 80 number of slices.\n"
          ]
        },
        {
          "output_type": "stream",
          "name": "stderr",
          "text": [
            "Performing inference on images:  33%|███▎      | 2/6 [01:35<03:08, 47.15s/it]"
          ]
        },
        {
          "output_type": "stream",
          "name": "stdout",
          "text": [
            "Performing prediction on 80 number of slices.\n"
          ]
        },
        {
          "output_type": "stream",
          "name": "stderr",
          "text": [
            "Performing inference on images:  50%|█████     | 3/6 [02:19<02:17, 45.79s/it]"
          ]
        },
        {
          "output_type": "stream",
          "name": "stdout",
          "text": [
            "Performing prediction on 80 number of slices.\n"
          ]
        },
        {
          "output_type": "stream",
          "name": "stderr",
          "text": [
            "Performing inference on images:  67%|██████▋   | 4/6 [03:00<01:27, 43.77s/it]"
          ]
        },
        {
          "output_type": "stream",
          "name": "stdout",
          "text": [
            "Performing prediction on 80 number of slices.\n"
          ]
        },
        {
          "output_type": "stream",
          "name": "stderr",
          "text": [
            "Performing inference on images:  83%|████████▎ | 5/6 [03:42<00:43, 43.26s/it]"
          ]
        },
        {
          "output_type": "stream",
          "name": "stdout",
          "text": [
            "Performing prediction on 80 number of slices.\n"
          ]
        },
        {
          "output_type": "stream",
          "name": "stderr",
          "text": [
            "Performing inference on images: 100%|██████████| 6/6 [04:27<00:00, 44.57s/it]"
          ]
        },
        {
          "output_type": "stream",
          "name": "stdout",
          "text": [
            "Prediction results are successfully exported to runs/predict/exp\n"
          ]
        },
        {
          "output_type": "stream",
          "name": "stderr",
          "text": [
            "\n"
          ]
        }
      ]
    },
    {
      "cell_type": "code",
      "source": [
        "predict(\n",
        "    model_type=model_type,\n",
        "    model_path=model_path,\n",
        "    model_config_path=model_config_path,\n",
        "    model_device=model_device,\n",
        "    model_confidence_threshold=model_confidence_threshold,\n",
        "    source=source_image_dir,\n",
        "    slice_height=slice_height,\n",
        "    slice_width=slice_width,\n",
        "    overlap_height_ratio=overlap_height_ratio,\n",
        "    overlap_width_ratio=overlap_width_ratio,\n",
        "    no_standard_prediction=False,\n",
        "    no_sliced_prediction=True,\n",
        "    export_visual=True,\n",
        ")"
      ],
      "metadata": {
        "colab": {
          "base_uri": "https://localhost:8080/"
        },
        "id": "ENzSAV2q2xxl",
        "outputId": "f30d5dbd-6645-4848-c5d9-d8dba2a3cb8a"
      },
      "execution_count": null,
      "outputs": [
        {
          "output_type": "stream",
          "name": "stdout",
          "text": [
            "There are 6 listed files in folder: salca/\n",
            "/content/config.yaml not available in Model Zoo!\n"
          ]
        },
        {
          "output_type": "stream",
          "name": "stderr",
          "text": [
            "03/01/2022 23:47:39 - INFO - fvcore.common.checkpoint -   [Checkpointer] Loading from /content/drive/MyDrive/mask_best.pth ...\n",
            "03/01/2022 23:47:39 - WARNING - sahi.model -   tuple index out of range\n",
            "Performing inference on images: 100%|██████████| 6/6 [00:09<00:00,  1.51s/it]"
          ]
        },
        {
          "output_type": "stream",
          "name": "stdout",
          "text": [
            "Prediction results are successfully exported to runs/predict/exp2\n"
          ]
        },
        {
          "output_type": "stream",
          "name": "stderr",
          "text": [
            "\n"
          ]
        }
      ]
    }
  ]
}